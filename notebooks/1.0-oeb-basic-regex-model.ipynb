{
  "cells": [
    {
      "cell_type": "code",
      "source": [
        "import numpy as np\n",
        "import matplotlib.pyplot as plt\n",
        "%matplotlib inline\n",
        "import pandas as pd\n",
        "import os\n",
        "import pickle\n",
        "import re"
      ],
      "outputs": [],
      "execution_count": 1,
      "metadata": {
        "collapsed": false,
        "jupyter": {
          "source_hidden": false,
          "outputs_hidden": false
        },
        "nteract": {
          "transient": {
            "deleting": false
          }
        }
      }
    },
    {
      "cell_type": "code",
      "source": [
        "os.chdir('/Users/ortonbabb/My Documents/Scripts/AEL Jobs/Data Labelling')\n"
      ],
      "outputs": [],
      "execution_count": 2,
      "metadata": {
        "collapsed": false,
        "jupyter": {
          "source_hidden": false,
          "outputs_hidden": false
        },
        "nteract": {
          "transient": {
            "deleting": false
          }
        }
      }
    },
    {
      "cell_type": "code",
      "source": [
        "with open('dataLabelerVars.pickle', 'rb') as f:\n",
        "    _, datajobs = pickle.load(f)"
      ],
      "outputs": [],
      "execution_count": 3,
      "metadata": {
        "collapsed": false,
        "jupyter": {
          "source_hidden": false,
          "outputs_hidden": false
        },
        "nteract": {
          "transient": {
            "deleting": false
          }
        }
      }
    },
    {
      "cell_type": "code",
      "source": [
        "f\"Actually entry level jobs make up {datajobs[datajobs.entry_level_q == 1].shape[0]*100/datajobs.shape[0] : .0f}% of the data set\""
      ],
      "outputs": [
        {
          "output_type": "execute_result",
          "execution_count": 4,
          "data": {
            "text/plain": [
              "'Actually entry level jobs make up  25% of the data set'"
            ]
          },
          "metadata": {}
        }
      ],
      "execution_count": 4,
      "metadata": {
        "collapsed": false,
        "jupyter": {
          "source_hidden": false,
          "outputs_hidden": false
        },
        "nteract": {
          "transient": {
            "deleting": false
          }
        }
      }
    },
    {
      "cell_type": "code",
      "source": [
        "datajobs.groupby('entry_level_q')['uniq_id'].count()"
      ],
      "outputs": [
        {
          "output_type": "execute_result",
          "execution_count": 5,
          "data": {
            "text/plain": [
              "entry_level_q\n",
              "0    105\n",
              "1     35\n",
              "Name: uniq_id, dtype: int64"
            ]
          },
          "metadata": {}
        }
      ],
      "execution_count": 5,
      "metadata": {
        "collapsed": false,
        "jupyter": {
          "source_hidden": false,
          "outputs_hidden": false
        },
        "nteract": {
          "transient": {
            "deleting": false
          }
        }
      }
    },
    {
      "cell_type": "code",
      "source": [
        "title_exclusions = [r\"I{2,3}|IV\", \\\n",
        "                    r\"[sS]enior\", \\\n",
        "                    r\"[sS]r\\.*\", \\\n",
        "                    r\"[lL]ead\", \\\n",
        "                    r\"[dD]irector\", \\\n",
        "                    r\"[Pp]rincipal\", \\\n",
        "                    r\"[mM]anage\", \\\n",
        "                    r\"[eE]xperienced\"]\n",
        "\n",
        "description_exclusions = [r\"(?:[mM]inimum|[mM]in\\.?|[aA]t least|[tT]otal|[iI]ncluding|[wW]ith).+(?:\\d+|one|two|three|four|five|six|seven|eight|nine|ten)\\+* (?:[yY]ears*|[yY]rs*)\", \\\n",
        "                         r\"[mM]aster'?s\"]\n",
        "\n",
        "print(title_exclusions, description_exclusions, sep='\\n')"
      ],
      "outputs": [
        {
          "output_type": "stream",
          "name": "stdout",
          "text": [
            "['I{2,3}|IV', '[sS]enior', '[sS]r\\\\.*', '[lL]ead', '[dD]irector', '[Pp]rincipal', '[mM]anage', '[eE]xperienced']\n",
            "['([mM]inimum|[mM]in\\\\.?|[aA]t least|[tT]otal|[iI]ncluding|[wW]ith).+(\\\\d+|one|two|three|four|five|six|seven|eight|nine)\\\\+* ([yY]ears*|[yY]rs*)', \"[mM]aster'?s\"]\n"
          ]
        }
      ],
      "execution_count": 6,
      "metadata": {
        "collapsed": false,
        "jupyter": {
          "source_hidden": false,
          "outputs_hidden": false
        },
        "nteract": {
          "transient": {
            "deleting": false
          }
        }
      }
    },
    {
      "cell_type": "code",
      "source": [
        "current_title = datajobs.iloc[0].job_title\n",
        "current_description = datajobs.iloc[0].job_description\n",
        "title_pattern = \"|\".join(title_exclusions)\n",
        "description_pattern = \"|\".join(description_exclusions)\n",
        "print(current_title)\n",
        "print(title_pattern)\n",
        "print(re.search(title_pattern, current_title))\n",
        "print(re.search(description_pattern, current_description))\n"
      ],
      "outputs": [
        {
          "output_type": "stream",
          "name": "stdout",
          "text": [
            "Content and Data Management Specialist\n",
            "I{2,3}|IV|[sS]enior|[sS]r\\.*|[lL]ead|[dD]irector|[Pp]rincipal|[mM]anage|[eE]xperienced\n",
            "<_sre.SRE_Match object; span=(17, 23), match='Manage'>\n",
            "<_sre.SRE_Match object; span=(9, 17), match=\"Master's\">\n"
          ]
        }
      ],
      "execution_count": 7,
      "metadata": {
        "collapsed": false,
        "jupyter": {
          "source_hidden": false,
          "outputs_hidden": false
        },
        "nteract": {
          "transient": {
            "deleting": false
          }
        }
      }
    },
    {
      "cell_type": "code",
      "source": [
        "datajobs[\"TestQ\"] =  None\n",
        "for index, job in datajobs.iterrows():\n",
        "    titleQ = re.search(title_pattern, job.job_title)\n",
        "    descriptionQ = re.search(description_pattern, job.job_description)\n",
        "    if (titleQ != None) | (descriptionQ != None):\n",
        "        datajobs.loc[index, \"TestQ\"] = 0\n",
        "    else:\n",
        "        datajobs.loc[index, \"TestQ\"] = 1\n"
      ],
      "outputs": [],
      "execution_count": 8,
      "metadata": {
        "collapsed": false,
        "jupyter": {
          "source_hidden": false,
          "outputs_hidden": false
        },
        "nteract": {
          "transient": {
            "deleting": false
          }
        }
      }
    },
    {
      "cell_type": "code",
      "source": [
        "100*(datajobs[\"entry_level_q\"] == datajobs[\"TestQ\"]).sum()/datajobs.shape[0]"
      ],
      "outputs": [
        {
          "output_type": "execute_result",
          "execution_count": 200,
          "data": {
            "text/plain": [
              "82.14285714285714"
            ]
          },
          "metadata": {}
        }
      ],
      "execution_count": 200,
      "metadata": {
        "collapsed": false,
        "jupyter": {
          "source_hidden": false,
          "outputs_hidden": false
        },
        "nteract": {
          "transient": {
            "deleting": false
          }
        }
      }
    },
    {
      "cell_type": "code",
      "source": [
        "re.search(, \"with 8+ years experience\")"
      ],
      "outputs": [
        {
          "output_type": "execute_result",
          "execution_count": 164,
          "data": {
            "text/plain": [
              "<_sre.SRE_Match object; span=(0, 13), match='with 8+ years'>"
            ]
          },
          "metadata": {}
        }
      ],
      "execution_count": 164,
      "metadata": {
        "collapsed": false,
        "jupyter": {
          "source_hidden": false,
          "outputs_hidden": false
        },
        "nteract": {
          "transient": {
            "deleting": false
          }
        }
      }
    },
    {
      "cell_type": "code",
      "source": [
        "re.search(\"Minimum.+years\", \"Minimum of two years\")"
      ],
      "outputs": [
        {
          "output_type": "execute_result",
          "execution_count": 151,
          "data": {
            "text/plain": [
              "<_sre.SRE_Match object; span=(0, 20), match='Minimum of two years'>"
            ]
          },
          "metadata": {}
        }
      ],
      "execution_count": 151,
      "metadata": {
        "collapsed": false,
        "jupyter": {
          "source_hidden": false,
          "outputs_hidden": false
        },
        "nteract": {
          "transient": {
            "deleting": false
          }
        }
      }
    },
    {
      "cell_type": "code",
      "source": [
        "datajobs.head(20)"
      ],
      "outputs": [
        {
          "output_type": "execute_result",
          "execution_count": 10,
          "data": {
            "text/plain": [
              "                                       category        city  \\\n",
              "0                                     Full-time  Washington   \n",
              "1                                     Full-time  Washington   \n",
              "2                                     Full-time  Washington   \n",
              "3                                     Full-time  Washington   \n",
              "4                                     Full-time  Washington   \n",
              "5                                           NaN  Washington   \n",
              "6                                     Full-time  Washington   \n",
              "7                                         Media  Washington   \n",
              "8                                         Media  Washington   \n",
              "9                                         Media  Washington   \n",
              "10                                    Full-time  Washington   \n",
              "11                                    Full-time  Washington   \n",
              "12  Admin - International Programs and Services  Washington   \n",
              "13                                    Full-time  Washington   \n",
              "14                                    Full-time  Washington   \n",
              "15                                    Full-time  Washington   \n",
              "16                                    Full-time  Washington   \n",
              "17                          administrative jobs  Washington   \n",
              "18                                    Full-time  Washington   \n",
              "19                                    Full-time  Washington   \n",
              "\n",
              "                              company_name              contact_email  \\\n",
              "0                               Tuvli, LLC       job-assist@akima.com   \n",
              "1             US Department of Agriculture                        NaN   \n",
              "2                                     CACI                        NaN   \n",
              "3                                Resource9                        NaN   \n",
              "4                                 Facebook  accommodations-ext@fb.com   \n",
              "5                       Motion Recruitment                        NaN   \n",
              "6                                      TCG                        NaN   \n",
              "7                               SocialCode                        NaN   \n",
              "8                               SocialCode                        NaN   \n",
              "9                               SocialCode                        NaN   \n",
              "10                        DIGITALSPEC, LLC                        NaN   \n",
              "11  Government of the District of Columbia                        NaN   \n",
              "12            George Washington University                        NaN   \n",
              "13             Nelson Corporation Services                        NaN   \n",
              "14                                    AARP                        NaN   \n",
              "15                Marieke Consulting, Inc.                        NaN   \n",
              "16                                    AARP                        NaN   \n",
              "17                                     TCG                        NaN   \n",
              "18                         Hill Associates        careers@hillasc.com   \n",
              "19                                CATHEXIS                        NaN   \n",
              "\n",
              "   contact_phone_number        country            crawl_timestamp  \\\n",
              "0                   NaN  United States  2020-02-14 03:57:23 +0000   \n",
              "1                   NaN  United States  2020-02-14 13:03:51 +0000   \n",
              "2                   NaN  United States  2020-02-14 13:28:36 +0000   \n",
              "3                   NaN  United States  2020-02-14 14:49:29 +0000   \n",
              "4                   NaN  United States  2020-02-14 22:03:50 +0000   \n",
              "5                   NaN             US  2020-02-14 22:56:22 +0000   \n",
              "6                   NaN  United States  2020-02-15 00:18:45 +0000   \n",
              "7                   NaN             US  2020-02-15 00:35:55 +0000   \n",
              "8                   NaN             US  2020-02-15 01:27:37 +0000   \n",
              "9                   NaN             US  2020-02-15 01:27:43 +0000   \n",
              "10                  NaN  United States  2020-02-15 02:45:39 +0000   \n",
              "11                  NaN  United States  2020-02-15 03:57:56 +0000   \n",
              "12                  NaN             US  2020-02-15 03:16:36 +0000   \n",
              "13                  NaN  United States  2020-02-15 09:29:38 +0000   \n",
              "14                  NaN  United States  2020-02-15 14:26:24 +0000   \n",
              "15                  NaN  United States  2020-02-15 22:40:07 +0000   \n",
              "16                  NaN  United States  2020-02-16 00:49:53 +0000   \n",
              "17                  NaN            Usa  2020-02-16 02:15:35 +0000   \n",
              "18                  NaN  United States  2020-02-16 07:28:52 +0000   \n",
              "19                  NaN  United States  2020-02-16 12:39:42 +0000   \n",
              "\n",
              "              cursor            geo has_expired  ...    job_type  \\\n",
              "0   1581656494852672  United States       false  ...   Full Time   \n",
              "1   1581688869516598  United States       false  ...   Full Time   \n",
              "2   1581688870079120  United States       false  ...   Full Time   \n",
              "3   1581696074549986  United States       false  ...   Full Time   \n",
              "4   1581721300738295  United States       false  ...   Full Time   \n",
              "5   1581724882681947            usa       false  ...   Full Time   \n",
              "6   1581728496087731  United States       false  ...   Full Time   \n",
              "7   1581728498080409            NaN       false  ...   Full Time   \n",
              "8   1581732100223845            NaN       false  ...   Full Time   \n",
              "9   1581732101096469            NaN       false  ...   Full Time   \n",
              "10  1581735683058283  United States       false  ...   Full Time   \n",
              "11  1581742879634770  United States       false  ...   Full Time   \n",
              "12  1581742881728335            NaN       false  ...   Full Time   \n",
              "13  1581760886900526  United States       false  ...   Full Time   \n",
              "14  1581778884358020  United States       false  ...   Full Time   \n",
              "15  1581807670669335  United States       false  ...   Full Time   \n",
              "16  1581818498598870  United States       false  ...   Full Time   \n",
              "17  1581822086441670            usa       false  ...   Full Time   \n",
              "18  1581840119804996  United States       false  ...   Full Time   \n",
              "19  1581858053534010  United States       false  ...   Full Time   \n",
              "\n",
              "   latest_expiry_check_date   post_date             salary_offered state  \\\n",
              "0                2020-02-14  2020-02-14   $79,000 - $99,000 a year    DC   \n",
              "1                2020-02-14  2020-02-14                        NaN    DC   \n",
              "2                2020-02-14  2020-02-14                        NaN    DC   \n",
              "3                2020-02-14  2020-02-14  $79,000 - $110,000 a year    DC   \n",
              "4                2020-02-14  2020-02-14  $86,000 - $120,000 a year    DC   \n",
              "5                2020-02-14  2020-02-14                        NaN    DC   \n",
              "6                2020-02-15  2020-02-14   $42,000 - $56,000 a year    DC   \n",
              "7                2020-02-15  2020-02-14                        NaN    DC   \n",
              "8                2020-02-15  2020-02-14                        NaN    DC   \n",
              "9                2020-02-15  2020-02-14                        NaN    DC   \n",
              "10               2020-02-15  2020-02-15   $60,000 - $78,000 a year    DC   \n",
              "11               2020-02-15  2020-02-15                        NaN    DC   \n",
              "12               2020-02-15  2020-02-14                        NaN    DC   \n",
              "13               2020-02-15  2020-02-15   $26,000 - $37,000 a year    DC   \n",
              "14               2020-02-15  2020-02-15   $59,000 - $82,000 a year    DC   \n",
              "15               2020-02-15  2020-02-15                        NaN    DC   \n",
              "16               2020-02-16  2020-02-15   $68,000 - $89,000 a year    DC   \n",
              "17               2020-02-16  2020-02-14                        NaN    DC   \n",
              "18               2020-02-16  2020-02-15   $32,000 - $43,000 a year    DC   \n",
              "19               2020-02-16  2020-02-16   $27,000 - $37,000 a year    DC   \n",
              "\n",
              "                             uniq_id  \\\n",
              "0   5274975f62b21e83691d8d48dd421435   \n",
              "1   1d54622347ee6ee7320321cae869ff8a   \n",
              "2   e8e37c207ee8cfdae0eb721ba17c5fc2   \n",
              "3   06f866f26d63dc9a7cc2191ea152f18b   \n",
              "4   7cea8057d699a7bd04ac5061a04c65eb   \n",
              "5   1bc0101ff1ebb189ebb7bd5f9df4b342   \n",
              "6   7cc162fb63bfb5b7d8ef39ad6cf8e58f   \n",
              "7   002aba7ea552f213580f59fb4c7c95e9   \n",
              "8   d0ede8783b19b4c603fcbeb021e5f935   \n",
              "9   fd4b57862a40e24ae7be19966e632fa4   \n",
              "10  b697969c9c8f64c92af8cb50773f0d10   \n",
              "11  e7972f55f64033a0ca84e4b2c5c878f4   \n",
              "12  546e79b72e43f99422635857bd3fbc8b   \n",
              "13  1c0528d2233de1c46d17a8d17f326b75   \n",
              "14  76c5f405f158710ec06ce6ae242c7937   \n",
              "15  34b970f16227c34cdb3da07512f5b6f2   \n",
              "16  b513c085c532c5999add16cc69c3fa4a   \n",
              "17  7e3ce5f0ad6388bf7a7262156ba3d982   \n",
              "18  d17317b849c71a4a286bdadf2574e0fa   \n",
              "19  a7f20fe80832911ce6b753976196f37a   \n",
              "\n",
              "                                                  url valid_through  \\\n",
              "0   https://www.simplyhired.com/job/xc71SUbSghv8he...           NaN   \n",
              "1   https://www.simplyhired.com/job/MA85xX0YXy13lg...           NaN   \n",
              "2   https://www.simplyhired.com/job/cBA4FSFkOqaQmO...           NaN   \n",
              "3   https://www.simplyhired.com/job/EsXGHxzphp4a9w...           NaN   \n",
              "4   https://www.simplyhired.com/job/a8mBWkWucSA7J2...           NaN   \n",
              "5   https://www.dice.com/jobs/detail/Senior-Data-A...           NaN   \n",
              "6   https://www.simplyhired.com/job/t9_eqrSc2y83_Y...           NaN   \n",
              "7   https://www.theladders.com/job/data-sales-mana...           NaN   \n",
              "8   https://www.theladders.com/job/data-software-e...           NaN   \n",
              "9   https://www.theladders.com/job/senior-software...           NaN   \n",
              "10  https://www.simplyhired.com/job/Fh-KMQQw6QfJ93...           NaN   \n",
              "11  https://www.simplyhired.com/job/AreB3klPnby_hV...           NaN   \n",
              "12  https://www.higheredjobs.com/admin/details.cfm...           NaN   \n",
              "13  https://www.simplyhired.com/job/uk8KmEA2c4kAGz...           NaN   \n",
              "14  https://www.simplyhired.com/job/Iay7X3Kpe0XdHr...           NaN   \n",
              "15  https://www.simplyhired.com/job/imjNQS3vm2uoTG...           NaN   \n",
              "16  https://www.simplyhired.com/job/to6LRtik8rrept...           NaN   \n",
              "17  https://job-openings.monster.com/entry-level-h...    2020-03-15   \n",
              "18  https://www.simplyhired.com/job/Jm2chsLbGyi0dU...           NaN   \n",
              "19  https://www.simplyhired.com/job/Ihx0SpTI7dzWFa...           NaN   \n",
              "\n",
              "   entry_level_q TestQ  \n",
              "0              0     0  \n",
              "1              0     0  \n",
              "2              0     0  \n",
              "3              0     1  \n",
              "4              0     0  \n",
              "5              0     0  \n",
              "6              0     0  \n",
              "7              0     0  \n",
              "8              0     0  \n",
              "9              0     0  \n",
              "10             0     1  \n",
              "11             0     1  \n",
              "12             1     0  \n",
              "13             1     1  \n",
              "14             1     1  \n",
              "15             0     0  \n",
              "16             1     1  \n",
              "17             0     0  \n",
              "18             0     0  \n",
              "19             0     0  \n",
              "\n",
              "[20 rows x 28 columns]"
            ],
            "text/html": [
              "<div>\n",
              "<style scoped>\n",
              "    .dataframe tbody tr th:only-of-type {\n",
              "        vertical-align: middle;\n",
              "    }\n",
              "\n",
              "    .dataframe tbody tr th {\n",
              "        vertical-align: top;\n",
              "    }\n",
              "\n",
              "    .dataframe thead th {\n",
              "        text-align: right;\n",
              "    }\n",
              "</style>\n",
              "<table border=\"1\" class=\"dataframe\">\n",
              "  <thead>\n",
              "    <tr style=\"text-align: right;\">\n",
              "      <th></th>\n",
              "      <th>category</th>\n",
              "      <th>city</th>\n",
              "      <th>company_name</th>\n",
              "      <th>contact_email</th>\n",
              "      <th>contact_phone_number</th>\n",
              "      <th>country</th>\n",
              "      <th>crawl_timestamp</th>\n",
              "      <th>cursor</th>\n",
              "      <th>geo</th>\n",
              "      <th>has_expired</th>\n",
              "      <th>...</th>\n",
              "      <th>job_type</th>\n",
              "      <th>latest_expiry_check_date</th>\n",
              "      <th>post_date</th>\n",
              "      <th>salary_offered</th>\n",
              "      <th>state</th>\n",
              "      <th>uniq_id</th>\n",
              "      <th>url</th>\n",
              "      <th>valid_through</th>\n",
              "      <th>entry_level_q</th>\n",
              "      <th>TestQ</th>\n",
              "    </tr>\n",
              "  </thead>\n",
              "  <tbody>\n",
              "    <tr>\n",
              "      <th>0</th>\n",
              "      <td>Full-time</td>\n",
              "      <td>Washington</td>\n",
              "      <td>Tuvli, LLC</td>\n",
              "      <td>job-assist@akima.com</td>\n",
              "      <td>NaN</td>\n",
              "      <td>United States</td>\n",
              "      <td>2020-02-14 03:57:23 +0000</td>\n",
              "      <td>1581656494852672</td>\n",
              "      <td>United States</td>\n",
              "      <td>false</td>\n",
              "      <td>...</td>\n",
              "      <td>Full Time</td>\n",
              "      <td>2020-02-14</td>\n",
              "      <td>2020-02-14</td>\n",
              "      <td>$79,000 - $99,000 a year</td>\n",
              "      <td>DC</td>\n",
              "      <td>5274975f62b21e83691d8d48dd421435</td>\n",
              "      <td>https://www.simplyhired.com/job/xc71SUbSghv8he...</td>\n",
              "      <td>NaN</td>\n",
              "      <td>0</td>\n",
              "      <td>0</td>\n",
              "    </tr>\n",
              "    <tr>\n",
              "      <th>1</th>\n",
              "      <td>Full-time</td>\n",
              "      <td>Washington</td>\n",
              "      <td>US Department of Agriculture</td>\n",
              "      <td>NaN</td>\n",
              "      <td>NaN</td>\n",
              "      <td>United States</td>\n",
              "      <td>2020-02-14 13:03:51 +0000</td>\n",
              "      <td>1581688869516598</td>\n",
              "      <td>United States</td>\n",
              "      <td>false</td>\n",
              "      <td>...</td>\n",
              "      <td>Full Time</td>\n",
              "      <td>2020-02-14</td>\n",
              "      <td>2020-02-14</td>\n",
              "      <td>NaN</td>\n",
              "      <td>DC</td>\n",
              "      <td>1d54622347ee6ee7320321cae869ff8a</td>\n",
              "      <td>https://www.simplyhired.com/job/MA85xX0YXy13lg...</td>\n",
              "      <td>NaN</td>\n",
              "      <td>0</td>\n",
              "      <td>0</td>\n",
              "    </tr>\n",
              "    <tr>\n",
              "      <th>2</th>\n",
              "      <td>Full-time</td>\n",
              "      <td>Washington</td>\n",
              "      <td>CACI</td>\n",
              "      <td>NaN</td>\n",
              "      <td>NaN</td>\n",
              "      <td>United States</td>\n",
              "      <td>2020-02-14 13:28:36 +0000</td>\n",
              "      <td>1581688870079120</td>\n",
              "      <td>United States</td>\n",
              "      <td>false</td>\n",
              "      <td>...</td>\n",
              "      <td>Full Time</td>\n",
              "      <td>2020-02-14</td>\n",
              "      <td>2020-02-14</td>\n",
              "      <td>NaN</td>\n",
              "      <td>DC</td>\n",
              "      <td>e8e37c207ee8cfdae0eb721ba17c5fc2</td>\n",
              "      <td>https://www.simplyhired.com/job/cBA4FSFkOqaQmO...</td>\n",
              "      <td>NaN</td>\n",
              "      <td>0</td>\n",
              "      <td>0</td>\n",
              "    </tr>\n",
              "    <tr>\n",
              "      <th>3</th>\n",
              "      <td>Full-time</td>\n",
              "      <td>Washington</td>\n",
              "      <td>Resource9</td>\n",
              "      <td>NaN</td>\n",
              "      <td>NaN</td>\n",
              "      <td>United States</td>\n",
              "      <td>2020-02-14 14:49:29 +0000</td>\n",
              "      <td>1581696074549986</td>\n",
              "      <td>United States</td>\n",
              "      <td>false</td>\n",
              "      <td>...</td>\n",
              "      <td>Full Time</td>\n",
              "      <td>2020-02-14</td>\n",
              "      <td>2020-02-14</td>\n",
              "      <td>$79,000 - $110,000 a year</td>\n",
              "      <td>DC</td>\n",
              "      <td>06f866f26d63dc9a7cc2191ea152f18b</td>\n",
              "      <td>https://www.simplyhired.com/job/EsXGHxzphp4a9w...</td>\n",
              "      <td>NaN</td>\n",
              "      <td>0</td>\n",
              "      <td>1</td>\n",
              "    </tr>\n",
              "    <tr>\n",
              "      <th>4</th>\n",
              "      <td>Full-time</td>\n",
              "      <td>Washington</td>\n",
              "      <td>Facebook</td>\n",
              "      <td>accommodations-ext@fb.com</td>\n",
              "      <td>NaN</td>\n",
              "      <td>United States</td>\n",
              "      <td>2020-02-14 22:03:50 +0000</td>\n",
              "      <td>1581721300738295</td>\n",
              "      <td>United States</td>\n",
              "      <td>false</td>\n",
              "      <td>...</td>\n",
              "      <td>Full Time</td>\n",
              "      <td>2020-02-14</td>\n",
              "      <td>2020-02-14</td>\n",
              "      <td>$86,000 - $120,000 a year</td>\n",
              "      <td>DC</td>\n",
              "      <td>7cea8057d699a7bd04ac5061a04c65eb</td>\n",
              "      <td>https://www.simplyhired.com/job/a8mBWkWucSA7J2...</td>\n",
              "      <td>NaN</td>\n",
              "      <td>0</td>\n",
              "      <td>0</td>\n",
              "    </tr>\n",
              "    <tr>\n",
              "      <th>5</th>\n",
              "      <td>NaN</td>\n",
              "      <td>Washington</td>\n",
              "      <td>Motion Recruitment</td>\n",
              "      <td>NaN</td>\n",
              "      <td>NaN</td>\n",
              "      <td>US</td>\n",
              "      <td>2020-02-14 22:56:22 +0000</td>\n",
              "      <td>1581724882681947</td>\n",
              "      <td>usa</td>\n",
              "      <td>false</td>\n",
              "      <td>...</td>\n",
              "      <td>Full Time</td>\n",
              "      <td>2020-02-14</td>\n",
              "      <td>2020-02-14</td>\n",
              "      <td>NaN</td>\n",
              "      <td>DC</td>\n",
              "      <td>1bc0101ff1ebb189ebb7bd5f9df4b342</td>\n",
              "      <td>https://www.dice.com/jobs/detail/Senior-Data-A...</td>\n",
              "      <td>NaN</td>\n",
              "      <td>0</td>\n",
              "      <td>0</td>\n",
              "    </tr>\n",
              "    <tr>\n",
              "      <th>6</th>\n",
              "      <td>Full-time</td>\n",
              "      <td>Washington</td>\n",
              "      <td>TCG</td>\n",
              "      <td>NaN</td>\n",
              "      <td>NaN</td>\n",
              "      <td>United States</td>\n",
              "      <td>2020-02-15 00:18:45 +0000</td>\n",
              "      <td>1581728496087731</td>\n",
              "      <td>United States</td>\n",
              "      <td>false</td>\n",
              "      <td>...</td>\n",
              "      <td>Full Time</td>\n",
              "      <td>2020-02-15</td>\n",
              "      <td>2020-02-14</td>\n",
              "      <td>$42,000 - $56,000 a year</td>\n",
              "      <td>DC</td>\n",
              "      <td>7cc162fb63bfb5b7d8ef39ad6cf8e58f</td>\n",
              "      <td>https://www.simplyhired.com/job/t9_eqrSc2y83_Y...</td>\n",
              "      <td>NaN</td>\n",
              "      <td>0</td>\n",
              "      <td>0</td>\n",
              "    </tr>\n",
              "    <tr>\n",
              "      <th>7</th>\n",
              "      <td>Media</td>\n",
              "      <td>Washington</td>\n",
              "      <td>SocialCode</td>\n",
              "      <td>NaN</td>\n",
              "      <td>NaN</td>\n",
              "      <td>US</td>\n",
              "      <td>2020-02-15 00:35:55 +0000</td>\n",
              "      <td>1581728498080409</td>\n",
              "      <td>NaN</td>\n",
              "      <td>false</td>\n",
              "      <td>...</td>\n",
              "      <td>Full Time</td>\n",
              "      <td>2020-02-15</td>\n",
              "      <td>2020-02-14</td>\n",
              "      <td>NaN</td>\n",
              "      <td>DC</td>\n",
              "      <td>002aba7ea552f213580f59fb4c7c95e9</td>\n",
              "      <td>https://www.theladders.com/job/data-sales-mana...</td>\n",
              "      <td>NaN</td>\n",
              "      <td>0</td>\n",
              "      <td>0</td>\n",
              "    </tr>\n",
              "    <tr>\n",
              "      <th>8</th>\n",
              "      <td>Media</td>\n",
              "      <td>Washington</td>\n",
              "      <td>SocialCode</td>\n",
              "      <td>NaN</td>\n",
              "      <td>NaN</td>\n",
              "      <td>US</td>\n",
              "      <td>2020-02-15 01:27:37 +0000</td>\n",
              "      <td>1581732100223845</td>\n",
              "      <td>NaN</td>\n",
              "      <td>false</td>\n",
              "      <td>...</td>\n",
              "      <td>Full Time</td>\n",
              "      <td>2020-02-15</td>\n",
              "      <td>2020-02-14</td>\n",
              "      <td>NaN</td>\n",
              "      <td>DC</td>\n",
              "      <td>d0ede8783b19b4c603fcbeb021e5f935</td>\n",
              "      <td>https://www.theladders.com/job/data-software-e...</td>\n",
              "      <td>NaN</td>\n",
              "      <td>0</td>\n",
              "      <td>0</td>\n",
              "    </tr>\n",
              "    <tr>\n",
              "      <th>9</th>\n",
              "      <td>Media</td>\n",
              "      <td>Washington</td>\n",
              "      <td>SocialCode</td>\n",
              "      <td>NaN</td>\n",
              "      <td>NaN</td>\n",
              "      <td>US</td>\n",
              "      <td>2020-02-15 01:27:43 +0000</td>\n",
              "      <td>1581732101096469</td>\n",
              "      <td>NaN</td>\n",
              "      <td>false</td>\n",
              "      <td>...</td>\n",
              "      <td>Full Time</td>\n",
              "      <td>2020-02-15</td>\n",
              "      <td>2020-02-14</td>\n",
              "      <td>NaN</td>\n",
              "      <td>DC</td>\n",
              "      <td>fd4b57862a40e24ae7be19966e632fa4</td>\n",
              "      <td>https://www.theladders.com/job/senior-software...</td>\n",
              "      <td>NaN</td>\n",
              "      <td>0</td>\n",
              "      <td>0</td>\n",
              "    </tr>\n",
              "    <tr>\n",
              "      <th>10</th>\n",
              "      <td>Full-time</td>\n",
              "      <td>Washington</td>\n",
              "      <td>DIGITALSPEC, LLC</td>\n",
              "      <td>NaN</td>\n",
              "      <td>NaN</td>\n",
              "      <td>United States</td>\n",
              "      <td>2020-02-15 02:45:39 +0000</td>\n",
              "      <td>1581735683058283</td>\n",
              "      <td>United States</td>\n",
              "      <td>false</td>\n",
              "      <td>...</td>\n",
              "      <td>Full Time</td>\n",
              "      <td>2020-02-15</td>\n",
              "      <td>2020-02-15</td>\n",
              "      <td>$60,000 - $78,000 a year</td>\n",
              "      <td>DC</td>\n",
              "      <td>b697969c9c8f64c92af8cb50773f0d10</td>\n",
              "      <td>https://www.simplyhired.com/job/Fh-KMQQw6QfJ93...</td>\n",
              "      <td>NaN</td>\n",
              "      <td>0</td>\n",
              "      <td>1</td>\n",
              "    </tr>\n",
              "    <tr>\n",
              "      <th>11</th>\n",
              "      <td>Full-time</td>\n",
              "      <td>Washington</td>\n",
              "      <td>Government of the District of Columbia</td>\n",
              "      <td>NaN</td>\n",
              "      <td>NaN</td>\n",
              "      <td>United States</td>\n",
              "      <td>2020-02-15 03:57:56 +0000</td>\n",
              "      <td>1581742879634770</td>\n",
              "      <td>United States</td>\n",
              "      <td>false</td>\n",
              "      <td>...</td>\n",
              "      <td>Full Time</td>\n",
              "      <td>2020-02-15</td>\n",
              "      <td>2020-02-15</td>\n",
              "      <td>NaN</td>\n",
              "      <td>DC</td>\n",
              "      <td>e7972f55f64033a0ca84e4b2c5c878f4</td>\n",
              "      <td>https://www.simplyhired.com/job/AreB3klPnby_hV...</td>\n",
              "      <td>NaN</td>\n",
              "      <td>0</td>\n",
              "      <td>1</td>\n",
              "    </tr>\n",
              "    <tr>\n",
              "      <th>12</th>\n",
              "      <td>Admin - International Programs and Services</td>\n",
              "      <td>Washington</td>\n",
              "      <td>George Washington University</td>\n",
              "      <td>NaN</td>\n",
              "      <td>NaN</td>\n",
              "      <td>US</td>\n",
              "      <td>2020-02-15 03:16:36 +0000</td>\n",
              "      <td>1581742881728335</td>\n",
              "      <td>NaN</td>\n",
              "      <td>false</td>\n",
              "      <td>...</td>\n",
              "      <td>Full Time</td>\n",
              "      <td>2020-02-15</td>\n",
              "      <td>2020-02-14</td>\n",
              "      <td>NaN</td>\n",
              "      <td>DC</td>\n",
              "      <td>546e79b72e43f99422635857bd3fbc8b</td>\n",
              "      <td>https://www.higheredjobs.com/admin/details.cfm...</td>\n",
              "      <td>NaN</td>\n",
              "      <td>1</td>\n",
              "      <td>0</td>\n",
              "    </tr>\n",
              "    <tr>\n",
              "      <th>13</th>\n",
              "      <td>Full-time</td>\n",
              "      <td>Washington</td>\n",
              "      <td>Nelson Corporation Services</td>\n",
              "      <td>NaN</td>\n",
              "      <td>NaN</td>\n",
              "      <td>United States</td>\n",
              "      <td>2020-02-15 09:29:38 +0000</td>\n",
              "      <td>1581760886900526</td>\n",
              "      <td>United States</td>\n",
              "      <td>false</td>\n",
              "      <td>...</td>\n",
              "      <td>Full Time</td>\n",
              "      <td>2020-02-15</td>\n",
              "      <td>2020-02-15</td>\n",
              "      <td>$26,000 - $37,000 a year</td>\n",
              "      <td>DC</td>\n",
              "      <td>1c0528d2233de1c46d17a8d17f326b75</td>\n",
              "      <td>https://www.simplyhired.com/job/uk8KmEA2c4kAGz...</td>\n",
              "      <td>NaN</td>\n",
              "      <td>1</td>\n",
              "      <td>1</td>\n",
              "    </tr>\n",
              "    <tr>\n",
              "      <th>14</th>\n",
              "      <td>Full-time</td>\n",
              "      <td>Washington</td>\n",
              "      <td>AARP</td>\n",
              "      <td>NaN</td>\n",
              "      <td>NaN</td>\n",
              "      <td>United States</td>\n",
              "      <td>2020-02-15 14:26:24 +0000</td>\n",
              "      <td>1581778884358020</td>\n",
              "      <td>United States</td>\n",
              "      <td>false</td>\n",
              "      <td>...</td>\n",
              "      <td>Full Time</td>\n",
              "      <td>2020-02-15</td>\n",
              "      <td>2020-02-15</td>\n",
              "      <td>$59,000 - $82,000 a year</td>\n",
              "      <td>DC</td>\n",
              "      <td>76c5f405f158710ec06ce6ae242c7937</td>\n",
              "      <td>https://www.simplyhired.com/job/Iay7X3Kpe0XdHr...</td>\n",
              "      <td>NaN</td>\n",
              "      <td>1</td>\n",
              "      <td>1</td>\n",
              "    </tr>\n",
              "    <tr>\n",
              "      <th>15</th>\n",
              "      <td>Full-time</td>\n",
              "      <td>Washington</td>\n",
              "      <td>Marieke Consulting, Inc.</td>\n",
              "      <td>NaN</td>\n",
              "      <td>NaN</td>\n",
              "      <td>United States</td>\n",
              "      <td>2020-02-15 22:40:07 +0000</td>\n",
              "      <td>1581807670669335</td>\n",
              "      <td>United States</td>\n",
              "      <td>false</td>\n",
              "      <td>...</td>\n",
              "      <td>Full Time</td>\n",
              "      <td>2020-02-15</td>\n",
              "      <td>2020-02-15</td>\n",
              "      <td>NaN</td>\n",
              "      <td>DC</td>\n",
              "      <td>34b970f16227c34cdb3da07512f5b6f2</td>\n",
              "      <td>https://www.simplyhired.com/job/imjNQS3vm2uoTG...</td>\n",
              "      <td>NaN</td>\n",
              "      <td>0</td>\n",
              "      <td>0</td>\n",
              "    </tr>\n",
              "    <tr>\n",
              "      <th>16</th>\n",
              "      <td>Full-time</td>\n",
              "      <td>Washington</td>\n",
              "      <td>AARP</td>\n",
              "      <td>NaN</td>\n",
              "      <td>NaN</td>\n",
              "      <td>United States</td>\n",
              "      <td>2020-02-16 00:49:53 +0000</td>\n",
              "      <td>1581818498598870</td>\n",
              "      <td>United States</td>\n",
              "      <td>false</td>\n",
              "      <td>...</td>\n",
              "      <td>Full Time</td>\n",
              "      <td>2020-02-16</td>\n",
              "      <td>2020-02-15</td>\n",
              "      <td>$68,000 - $89,000 a year</td>\n",
              "      <td>DC</td>\n",
              "      <td>b513c085c532c5999add16cc69c3fa4a</td>\n",
              "      <td>https://www.simplyhired.com/job/to6LRtik8rrept...</td>\n",
              "      <td>NaN</td>\n",
              "      <td>1</td>\n",
              "      <td>1</td>\n",
              "    </tr>\n",
              "    <tr>\n",
              "      <th>17</th>\n",
              "      <td>administrative jobs</td>\n",
              "      <td>Washington</td>\n",
              "      <td>TCG</td>\n",
              "      <td>NaN</td>\n",
              "      <td>NaN</td>\n",
              "      <td>Usa</td>\n",
              "      <td>2020-02-16 02:15:35 +0000</td>\n",
              "      <td>1581822086441670</td>\n",
              "      <td>usa</td>\n",
              "      <td>false</td>\n",
              "      <td>...</td>\n",
              "      <td>Full Time</td>\n",
              "      <td>2020-02-16</td>\n",
              "      <td>2020-02-14</td>\n",
              "      <td>NaN</td>\n",
              "      <td>DC</td>\n",
              "      <td>7e3ce5f0ad6388bf7a7262156ba3d982</td>\n",
              "      <td>https://job-openings.monster.com/entry-level-h...</td>\n",
              "      <td>2020-03-15</td>\n",
              "      <td>0</td>\n",
              "      <td>0</td>\n",
              "    </tr>\n",
              "    <tr>\n",
              "      <th>18</th>\n",
              "      <td>Full-time</td>\n",
              "      <td>Washington</td>\n",
              "      <td>Hill Associates</td>\n",
              "      <td>careers@hillasc.com</td>\n",
              "      <td>NaN</td>\n",
              "      <td>United States</td>\n",
              "      <td>2020-02-16 07:28:52 +0000</td>\n",
              "      <td>1581840119804996</td>\n",
              "      <td>United States</td>\n",
              "      <td>false</td>\n",
              "      <td>...</td>\n",
              "      <td>Full Time</td>\n",
              "      <td>2020-02-16</td>\n",
              "      <td>2020-02-15</td>\n",
              "      <td>$32,000 - $43,000 a year</td>\n",
              "      <td>DC</td>\n",
              "      <td>d17317b849c71a4a286bdadf2574e0fa</td>\n",
              "      <td>https://www.simplyhired.com/job/Jm2chsLbGyi0dU...</td>\n",
              "      <td>NaN</td>\n",
              "      <td>0</td>\n",
              "      <td>0</td>\n",
              "    </tr>\n",
              "    <tr>\n",
              "      <th>19</th>\n",
              "      <td>Full-time</td>\n",
              "      <td>Washington</td>\n",
              "      <td>CATHEXIS</td>\n",
              "      <td>NaN</td>\n",
              "      <td>NaN</td>\n",
              "      <td>United States</td>\n",
              "      <td>2020-02-16 12:39:42 +0000</td>\n",
              "      <td>1581858053534010</td>\n",
              "      <td>United States</td>\n",
              "      <td>false</td>\n",
              "      <td>...</td>\n",
              "      <td>Full Time</td>\n",
              "      <td>2020-02-16</td>\n",
              "      <td>2020-02-16</td>\n",
              "      <td>$27,000 - $37,000 a year</td>\n",
              "      <td>DC</td>\n",
              "      <td>a7f20fe80832911ce6b753976196f37a</td>\n",
              "      <td>https://www.simplyhired.com/job/Ihx0SpTI7dzWFa...</td>\n",
              "      <td>NaN</td>\n",
              "      <td>0</td>\n",
              "      <td>0</td>\n",
              "    </tr>\n",
              "  </tbody>\n",
              "</table>\n",
              "<p>20 rows × 28 columns</p>\n",
              "</div>"
            ]
          },
          "metadata": {}
        }
      ],
      "execution_count": 10,
      "metadata": {
        "collapsed": false,
        "jupyter": {
          "source_hidden": false,
          "outputs_hidden": false
        },
        "nteract": {
          "transient": {
            "deleting": false
          }
        }
      }
    },
    {
      "cell_type": "code",
      "source": [
        "datajobs.info()"
      ],
      "outputs": [
        {
          "output_type": "stream",
          "name": "stdout",
          "text": [
            "<class 'pandas.core.frame.DataFrame'>\n",
            "RangeIndex: 140 entries, 0 to 139\n",
            "Data columns (total 28 columns):\n",
            "category                    119 non-null object\n",
            "city                        140 non-null object\n",
            "company_name                140 non-null object\n",
            "contact_email               18 non-null object\n",
            "contact_phone_number        3 non-null object\n",
            "country                     140 non-null object\n",
            "crawl_timestamp             140 non-null object\n",
            "cursor                      140 non-null int64\n",
            "geo                         118 non-null object\n",
            "has_expired                 140 non-null object\n",
            "html_job_description        67 non-null object\n",
            "inferred_city               140 non-null object\n",
            "inferred_country            140 non-null object\n",
            "inferred_iso3_lang_code     92 non-null object\n",
            "inferred_state              140 non-null object\n",
            "job_board                   138 non-null object\n",
            "job_description             140 non-null object\n",
            "job_title                   140 non-null object\n",
            "job_type                    140 non-null object\n",
            "latest_expiry_check_date    140 non-null object\n",
            "post_date                   140 non-null object\n",
            "salary_offered              72 non-null object\n",
            "state                       139 non-null object\n",
            "uniq_id                     140 non-null object\n",
            "url                         140 non-null object\n",
            "valid_through               17 non-null object\n",
            "entry_level_q               140 non-null int64\n",
            "TestQ                       140 non-null int64\n",
            "dtypes: int64(3), object(25)\n",
            "memory usage: 30.7+ KB\n"
          ]
        }
      ],
      "execution_count": 11,
      "metadata": {
        "collapsed": false,
        "jupyter": {
          "source_hidden": false,
          "outputs_hidden": false
        },
        "nteract": {
          "transient": {
            "deleting": false
          }
        }
      }
    },
    {
      "cell_type": "code",
      "source": [],
      "outputs": [],
      "execution_count": null,
      "metadata": {
        "collapsed": false,
        "jupyter": {
          "source_hidden": false,
          "outputs_hidden": false
        },
        "nteract": {
          "transient": {
            "deleting": false
          }
        }
      }
    }
  ],
  "metadata": {
    "kernel_info": {
      "name": "python3"
    },
    "language_info": {
      "name": "python",
      "version": "3.6.6",
      "mimetype": "text/x-python",
      "codemirror_mode": {
        "name": "ipython",
        "version": 3
      },
      "pygments_lexer": "ipython3",
      "nbconvert_exporter": "python",
      "file_extension": ".py"
    },
    "kernelspec": {
      "argv": [
        "/Users/ortonbabb/anaconda3/bin/python",
        "-m",
        "ipykernel_launcher",
        "-f",
        "{connection_file}"
      ],
      "display_name": "Python 3",
      "language": "python",
      "name": "python3"
    },
    "nteract": {
      "version": "0.21.0"
    }
  },
  "nbformat": 4,
  "nbformat_minor": 0
}